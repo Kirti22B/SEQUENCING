{
 "cells": [
  {
   "cell_type": "code",
   "execution_count": 2,
   "id": "5ca0348a",
   "metadata": {},
   "outputs": [],
   "source": [
    "dna_seq = \"GCTATGGACATA\"\n"
   ]
  },
  {
   "cell_type": "code",
   "execution_count": 3,
   "id": "10fc809e",
   "metadata": {},
   "outputs": [
    {
     "data": {
      "text/plain": [
       "'GCTATGGACATA'"
      ]
     },
     "execution_count": 3,
     "metadata": {},
     "output_type": "execute_result"
    }
   ],
   "source": [
    "dna_seq"
   ]
  },
  {
   "cell_type": "code",
   "execution_count": 4,
   "id": "a74df7ba",
   "metadata": {},
   "outputs": [
    {
     "data": {
      "text/plain": [
       "'gctatggacata'"
      ]
     },
     "execution_count": 4,
     "metadata": {},
     "output_type": "execute_result"
    }
   ],
   "source": [
    "dna_seq.lower()"
   ]
  },
  {
   "cell_type": "code",
   "execution_count": 5,
   "id": "c5c14c0f",
   "metadata": {},
   "outputs": [
    {
     "ename": "AttributeError",
     "evalue": "'str' object has no attribute 'len'",
     "output_type": "error",
     "traceback": [
      "\u001b[0;31m---------------------------------------------------------------------------\u001b[0m",
      "\u001b[0;31mAttributeError\u001b[0m                            Traceback (most recent call last)",
      "Cell \u001b[0;32mIn[5], line 1\u001b[0m\n\u001b[0;32m----> 1\u001b[0m dna_seq\u001b[38;5;241m.\u001b[39mlen()\n",
      "\u001b[0;31mAttributeError\u001b[0m: 'str' object has no attribute 'len'"
     ]
    }
   ],
   "source": [
    "dna_seq.len()\n"
   ]
  },
  {
   "cell_type": "code",
   "execution_count": 13,
   "id": "5622b24b",
   "metadata": {},
   "outputs": [
    {
     "data": {
      "text/plain": [
       "'GCUAUGGACAUA'"
      ]
     },
     "execution_count": 13,
     "metadata": {},
     "output_type": "execute_result"
    }
   ],
   "source": [
    "dna_seq = 'GCTATGGACATA'\n",
    "m_rna_seq = dna_seq.replace (\"T\",\"U\")\n",
    "m_rna_seq"
   ]
  },
  {
   "cell_type": "code",
   "execution_count": 14,
   "id": "8cf3f782",
   "metadata": {},
   "outputs": [
    {
     "data": {
      "text/plain": [
       "'GCTATGGACATA'"
      ]
     },
     "execution_count": 14,
     "metadata": {},
     "output_type": "execute_result"
    }
   ],
   "source": [
    "dna_seq"
   ]
  },
  {
   "cell_type": "code",
   "execution_count": 15,
   "id": "062cf18a",
   "metadata": {},
   "outputs": [
    {
     "data": {
      "text/plain": [
       "41.66666666666667"
      ]
     },
     "execution_count": 15,
     "metadata": {},
     "output_type": "execute_result"
    }
   ],
   "source": [
    "c= dna_seq.count('C')\n",
    "g = dna_seq.count ('G')\n",
    "(c+g)/len(dna_seq)*100"
   ]
  },
  {
   "cell_type": "code",
   "execution_count": 16,
   "id": "6db484fa",
   "metadata": {},
   "outputs": [
    {
     "data": {
      "text/plain": [
       "'GCUAUGGACAUA'"
      ]
     },
     "execution_count": 16,
     "metadata": {},
     "output_type": "execute_result"
    }
   ],
   "source": [
    "m_rna_seq"
   ]
  },
  {
   "cell_type": "code",
   "execution_count": 17,
   "id": "315126bc",
   "metadata": {},
   "outputs": [
    {
     "data": {
      "text/plain": [
       "'gcuauggacaua'"
      ]
     },
     "execution_count": 17,
     "metadata": {},
     "output_type": "execute_result"
    }
   ],
   "source": [
    "m_rna_seq.lower()\n"
   ]
  },
  {
   "cell_type": "code",
   "execution_count": 18,
   "id": "86aadf3f",
   "metadata": {},
   "outputs": [
    {
     "data": {
      "text/plain": [
       "3"
      ]
     },
     "execution_count": 18,
     "metadata": {},
     "output_type": "execute_result"
    }
   ],
   "source": [
    "m_rna_seq.find('AUG')"
   ]
  },
  {
   "cell_type": "code",
   "execution_count": 19,
   "id": "ac481291",
   "metadata": {},
   "outputs": [
    {
     "data": {
      "text/plain": [
       "0"
      ]
     },
     "execution_count": 19,
     "metadata": {},
     "output_type": "execute_result"
    }
   ],
   "source": [
    "m_rna_seq.find('GCU')"
   ]
  },
  {
   "cell_type": "code",
   "execution_count": 20,
   "id": "85404012",
   "metadata": {},
   "outputs": [
    {
     "data": {
      "text/plain": [
       "['THIS', 'SEQUENCE', 'IS', 'JUST', 'AN', 'EXAPMLE']"
      ]
     },
     "execution_count": 20,
     "metadata": {},
     "output_type": "execute_result"
    }
   ],
   "source": [
    "'THIS SEQUENCE IS JUST AN EXAPMLE'.split()"
   ]
  },
  {
   "cell_type": "code",
   "execution_count": 21,
   "id": "0e8a04bb",
   "metadata": {},
   "outputs": [
    {
     "data": {
      "text/plain": [
       "['LEO', 'X,9999-23453,leox@thyfb.com']"
      ]
     },
     "execution_count": 21,
     "metadata": {},
     "output_type": "execute_result"
    }
   ],
   "source": [
    "'LEO X,9999-23453,leox@thyfb.com'.split()"
   ]
  },
  {
   "cell_type": "code",
   "execution_count": 22,
   "id": "dde94f2a",
   "metadata": {},
   "outputs": [
    {
     "data": {
      "text/plain": [
       "['LEO X', '9999-23453', 'leox@thyfb.com']"
      ]
     },
     "execution_count": 22,
     "metadata": {},
     "output_type": "execute_result"
    }
   ],
   "source": [
    "'LEO X,9999-23453,leox@thyfb.com'.split(\",\")"
   ]
  },
  {
   "cell_type": "code",
   "execution_count": 23,
   "id": "a9616d54",
   "metadata": {},
   "outputs": [
    {
     "data": {
      "text/plain": [
       "'ACAT'"
      ]
     },
     "execution_count": 23,
     "metadata": {},
     "output_type": "execute_result"
    }
   ],
   "source": [
    "''.join(['A','C','A','T'])"
   ]
  },
  {
   "cell_type": "code",
   "execution_count": 52,
   "id": "85bcc4eb",
   "metadata": {},
   "outputs": [],
   "source": [
    "first_list = [1,2,3,4,5]"
   ]
  },
  {
   "cell_type": "code",
   "execution_count": 53,
   "id": "0fe2624d",
   "metadata": {},
   "outputs": [],
   "source": [
    "other_list = [1,'two',3,4,'last']"
   ]
  },
  {
   "cell_type": "code",
   "execution_count": 55,
   "id": "9183cc28",
   "metadata": {},
   "outputs": [
    {
     "data": {
      "text/plain": [
       "[1, 'two', [1, 2, 3, 4, 5], 4, 'last']"
      ]
     },
     "execution_count": 55,
     "metadata": {},
     "output_type": "execute_result"
    }
   ],
   "source": [
    "nested_list = [1,'two',first_list,4,'last']\n",
    "nested_list"
   ]
  },
  {
   "cell_type": "code",
   "execution_count": 56,
   "id": "2e78454b",
   "metadata": {},
   "outputs": [
    {
     "data": {
      "text/plain": [
       "[]"
      ]
     },
     "execution_count": 56,
     "metadata": {},
     "output_type": "execute_result"
    }
   ],
   "source": [
    "empty_list=[]\n",
    "empty_list"
   ]
  },
  {
   "cell_type": "code",
   "execution_count": 57,
   "id": "72c824fe",
   "metadata": {},
   "outputs": [
    {
     "data": {
      "text/plain": [
       "2"
      ]
     },
     "execution_count": 57,
     "metadata": {},
     "output_type": "execute_result"
    }
   ],
   "source": [
    "first_list[1]"
   ]
  },
  {
   "cell_type": "code",
   "execution_count": 58,
   "id": "0e6f7102",
   "metadata": {},
   "outputs": [
    {
     "data": {
      "text/plain": [
       "5"
      ]
     },
     "execution_count": 58,
     "metadata": {},
     "output_type": "execute_result"
    }
   ],
   "source": [
    "first_list=[1,2,3,4,5]\n",
    "first_list[-1]"
   ]
  },
  {
   "cell_type": "code",
   "execution_count": 59,
   "id": "f0b698eb",
   "metadata": {},
   "outputs": [
    {
     "data": {
      "text/plain": [
       "3"
      ]
     },
     "execution_count": 59,
     "metadata": {},
     "output_type": "execute_result"
    }
   ],
   "source": [
    "first_list[2]"
   ]
  },
  {
   "cell_type": "code",
   "execution_count": 60,
   "id": "a2ee6aa0",
   "metadata": {},
   "outputs": [
    {
     "data": {
      "text/plain": [
       "['a', 't', 'g', 'g', 'c', 't', 'a', 'g', 'c', 't']"
      ]
     },
     "execution_count": 60,
     "metadata": {},
     "output_type": "execute_result"
    }
   ],
   "source": [
    "aseq = 'atggctagct'\n",
    "list(aseq)"
   ]
  },
  {
   "cell_type": "code",
   "execution_count": 62,
   "id": "d76b0de2",
   "metadata": {},
   "outputs": [
    {
     "data": {
      "text/plain": [
       "['red', 'red', 'red', 'red', 'red', 'red']"
      ]
     },
     "execution_count": 62,
     "metadata": {},
     "output_type": "execute_result"
    }
   ],
   "source": [
    "samples = ['red']*6\n",
    "samples"
   ]
  },
  {
   "cell_type": "code",
   "execution_count": 68,
   "id": "cd264797",
   "metadata": {},
   "outputs": [
    {
     "data": {
      "text/plain": [
       "['NONE', 'NONE', 'NONE', 'NONE', 'NONE']"
      ]
     },
     "execution_count": 68,
     "metadata": {},
     "output_type": "execute_result"
    }
   ],
   "source": [
    "samples = ['NONE'] * 5\n",
    "samples\n"
   ]
  },
  {
   "cell_type": "code",
   "execution_count": 69,
   "id": "517521b8",
   "metadata": {},
   "outputs": [],
   "source": [
    "A = [0,1,2,3,4,5]"
   ]
  },
  {
   "cell_type": "code",
   "execution_count": 71,
   "id": "5379ba6e",
   "metadata": {},
   "outputs": [
    {
     "data": {
      "text/plain": [
       "[0, 3, 6, 9, 12, 15]"
      ]
     },
     "execution_count": 71,
     "metadata": {},
     "output_type": "execute_result"
    }
   ],
   "source": [
    "[3*x for x in A]"
   ]
  },
  {
   "cell_type": "code",
   "execution_count": 74,
   "id": "a0eeb7b1",
   "metadata": {},
   "outputs": [
    {
     "data": {
      "text/plain": [
       "['doggy', 'king kong', 'godzilla']"
      ]
     },
     "execution_count": 74,
     "metadata": {},
     "output_type": "execute_result"
    }
   ],
   "source": [
    "animals = ['doggy','king kong','godzilla']\n",
    "[x.strip() for x in animals]\n",
    "           "
   ]
  },
  {
   "cell_type": "code",
   "execution_count": 76,
   "id": "9d755ec3",
   "metadata": {},
   "outputs": [
    {
     "data": {
      "text/plain": [
       "['king kong', 'godzilla']"
      ]
     },
     "execution_count": 76,
     "metadata": {},
     "output_type": "execute_result"
    }
   ],
   "source": [
    "animals = ['doggy','king kong','godzilla']\n",
    "[x.strip() for x in animals if'i' in x]"
   ]
  },
  {
   "cell_type": "code",
   "execution_count": 77,
   "id": "91e0303b",
   "metadata": {},
   "outputs": [
    {
     "data": {
      "text/plain": [
       "[1, 2, 3, 4, 5, 99]"
      ]
     },
     "execution_count": 77,
     "metadata": {},
     "output_type": "execute_result"
    }
   ],
   "source": [
    "first_list.append(99)\n",
    "first_list"
   ]
  },
  {
   "cell_type": "code",
   "execution_count": 79,
   "id": "5e738aa6",
   "metadata": {},
   "outputs": [
    {
     "data": {
      "text/plain": [
       "[1, 2, 30, 3, 4, 5, 99]"
      ]
     },
     "execution_count": 79,
     "metadata": {},
     "output_type": "execute_result"
    }
   ],
   "source": [
    "first_list.insert(2,30)\n",
    "first_list"
   ]
  },
  {
   "cell_type": "code",
   "execution_count": 80,
   "id": "c84cd2f0",
   "metadata": {},
   "outputs": [
    {
     "data": {
      "text/plain": [
       "[1, 2, 30, 3, 4, 5, 99, 40, 50, 60]"
      ]
     },
     "execution_count": 80,
     "metadata": {},
     "output_type": "execute_result"
    }
   ],
   "source": [
    "first_list.extend([40,50,60])\n",
    "first_list"
   ]
  },
  {
   "cell_type": "code",
   "execution_count": 81,
   "id": "3f7dfdcf",
   "metadata": {},
   "outputs": [
    {
     "data": {
      "text/plain": [
       "[1, 2, 3, 4, 5, 6]"
      ]
     },
     "execution_count": 81,
     "metadata": {},
     "output_type": "execute_result"
    }
   ],
   "source": [
    "[1,2,3]+[4,5,6]"
   ]
  },
  {
   "cell_type": "code",
   "execution_count": 82,
   "id": "b812dc9c",
   "metadata": {},
   "outputs": [
    {
     "data": {
      "text/plain": [
       "[1, 2, 30, 3, 4, 5, 99, 40, 50, 60]"
      ]
     },
     "execution_count": 82,
     "metadata": {},
     "output_type": "execute_result"
    }
   ],
   "source": [
    "first_list"
   ]
  },
  {
   "cell_type": "code",
   "execution_count": 83,
   "id": "5327dd02",
   "metadata": {},
   "outputs": [
    {
     "data": {
      "text/plain": [
       "60"
      ]
     },
     "execution_count": 83,
     "metadata": {},
     "output_type": "execute_result"
    }
   ],
   "source": [
    "first_list.pop()"
   ]
  },
  {
   "cell_type": "code",
   "execution_count": 86,
   "id": "6a8114d7",
   "metadata": {},
   "outputs": [
    {
     "data": {
      "text/plain": [
       "40"
      ]
     },
     "execution_count": 86,
     "metadata": {},
     "output_type": "execute_result"
    }
   ],
   "source": [
    "first_list.pop(5)"
   ]
  },
  {
   "cell_type": "code",
   "execution_count": 89,
   "id": "5b2f2d02",
   "metadata": {},
   "outputs": [
    {
     "data": {
      "text/plain": [
       "[1, 2, 4, 5, 50]"
      ]
     },
     "execution_count": 89,
     "metadata": {},
     "output_type": "execute_result"
    }
   ],
   "source": [
    "first_list"
   ]
  },
  {
   "cell_type": "code",
   "execution_count": 90,
   "id": "aecbbbab",
   "metadata": {},
   "outputs": [
    {
     "data": {
      "text/plain": [
       "[1, 2, 4, 5]"
      ]
     },
     "execution_count": 90,
     "metadata": {},
     "output_type": "execute_result"
    }
   ],
   "source": [
    "first_list.remove(50)\n",
    "first_list"
   ]
  },
  {
   "cell_type": "code",
   "execution_count": 91,
   "id": "f5a34b71",
   "metadata": {},
   "outputs": [
    {
     "data": {
      "text/plain": [
       "5"
      ]
     },
     "execution_count": 91,
     "metadata": {},
     "output_type": "execute_result"
    }
   ],
   "source": [
    "a = [3,4,5]\n",
    "b = a\n",
    "b.pop()"
   ]
  },
  {
   "cell_type": "code",
   "execution_count": 92,
   "id": "4a79f6be",
   "metadata": {},
   "outputs": [
    {
     "data": {
      "text/plain": [
       "[3, 4]"
      ]
     },
     "execution_count": 92,
     "metadata": {},
     "output_type": "execute_result"
    }
   ],
   "source": [
    "a"
   ]
  },
  {
   "cell_type": "code",
   "execution_count": 93,
   "id": "fa126e82",
   "metadata": {},
   "outputs": [
    {
     "data": {
      "text/plain": [
       "5"
      ]
     },
     "execution_count": 93,
     "metadata": {},
     "output_type": "execute_result"
    }
   ],
   "source": [
    "import copy\n",
    "a = [3,4,5]\n",
    "b = copy.copy(a)\n",
    "b.pop()"
   ]
  },
  {
   "cell_type": "code",
   "execution_count": 94,
   "id": "40d28c9e",
   "metadata": {},
   "outputs": [
    {
     "data": {
      "text/plain": [
       "[3, 4, 5]"
      ]
     },
     "execution_count": 94,
     "metadata": {},
     "output_type": "execute_result"
    }
   ],
   "source": [
    "a"
   ]
  },
  {
   "cell_type": "code",
   "execution_count": 95,
   "id": "3a933b77",
   "metadata": {},
   "outputs": [
    {
     "data": {
      "text/plain": [
       "5"
      ]
     },
     "execution_count": 95,
     "metadata": {},
     "output_type": "execute_result"
    }
   ],
   "source": [
    "a = [3,4,5]\n",
    "b = a[:]\n",
    "b.pop()"
   ]
  },
  {
   "cell_type": "code",
   "execution_count": 96,
   "id": "eb476b93",
   "metadata": {},
   "outputs": [
    {
     "data": {
      "text/plain": [
       "[3, 4, 5]"
      ]
     },
     "execution_count": 96,
     "metadata": {},
     "output_type": "execute_result"
    }
   ],
   "source": [
    "a"
   ]
  },
  {
   "cell_type": "code",
   "execution_count": 97,
   "id": "46a1d29a",
   "metadata": {},
   "outputs": [],
   "source": [
    "point = (23,46,69)"
   ]
  },
  {
   "cell_type": "code",
   "execution_count": 98,
   "id": "2baee99c",
   "metadata": {},
   "outputs": [
    {
     "ename": "AttributeError",
     "evalue": "'tuple' object has no attribute 'append'",
     "output_type": "error",
     "traceback": [
      "\u001b[0;31m---------------------------------------------------------------------------\u001b[0m",
      "\u001b[0;31mAttributeError\u001b[0m                            Traceback (most recent call last)",
      "Cell \u001b[0;32mIn[98], line 1\u001b[0m\n\u001b[0;32m----> 1\u001b[0m point\u001b[38;5;241m.\u001b[39mappend(\u001b[38;5;241m1\u001b[39m)\n\u001b[1;32m      2\u001b[0m point\n",
      "\u001b[0;31mAttributeError\u001b[0m: 'tuple' object has no attribute 'append'"
     ]
    }
   ],
   "source": [
    "point.append(1)\n",
    "point"
   ]
  },
  {
   "cell_type": "code",
   "execution_count": 99,
   "id": "010c7e9d",
   "metadata": {},
   "outputs": [
    {
     "data": {
      "text/plain": [
       "33"
      ]
     },
     "execution_count": 99,
     "metadata": {},
     "output_type": "execute_result"
    }
   ],
   "source": [
    "point = (33,65,87)\n",
    "point[0]"
   ]
  },
  {
   "cell_type": "code",
   "execution_count": 100,
   "id": "dd9dd0ca",
   "metadata": {},
   "outputs": [],
   "source": [
    "my_sequence = 'MRVLLAVLLALAASATSV'"
   ]
  },
  {
   "cell_type": "code",
   "execution_count": 102,
   "id": "56cde927",
   "metadata": {},
   "outputs": [
    {
     "data": {
      "text/plain": [
       "'L'"
      ]
     },
     "execution_count": 102,
     "metadata": {},
     "output_type": "execute_result"
    }
   ],
   "source": [
    "my_sequence[10]"
   ]
  },
  {
   "cell_type": "code",
   "execution_count": 103,
   "id": "1aa86a25",
   "metadata": {},
   "outputs": [
    {
     "data": {
      "text/plain": [
       "'Mm.243507'"
      ]
     },
     "execution_count": 103,
     "metadata": {},
     "output_type": "execute_result"
    }
   ],
   "source": [
    "parameters = ['Unigene','dna','Mm.243507',5]\n",
    "parameters[2]"
   ]
  },
  {
   "cell_type": "code",
   "execution_count": 104,
   "id": "002dec0b",
   "metadata": {},
   "outputs": [
    {
     "data": {
      "text/plain": [
       "87"
      ]
     },
     "execution_count": 104,
     "metadata": {},
     "output_type": "execute_result"
    }
   ],
   "source": [
    "point[-1]"
   ]
  },
  {
   "cell_type": "code",
   "execution_count": 105,
   "id": "fa8c9c07",
   "metadata": {},
   "outputs": [
    {
     "data": {
      "text/plain": [
       "'A'"
      ]
     },
     "execution_count": 105,
     "metadata": {},
     "output_type": "execute_result"
    }
   ],
   "source": [
    "my_sequence[-7]"
   ]
  },
  {
   "cell_type": "code",
   "execution_count": 106,
   "id": "d3fda652",
   "metadata": {},
   "outputs": [
    {
     "data": {
      "text/plain": [
       "'A'"
      ]
     },
     "execution_count": 106,
     "metadata": {},
     "output_type": "execute_result"
    }
   ],
   "source": [
    "seqdata = ('MRVLLAVLLALAASATSV',12,'5FTH7FHJ')\n",
    "seqdata[0][5]"
   ]
  },
  {
   "cell_type": "code",
   "execution_count": 109,
   "id": "a5531746",
   "metadata": {},
   "outputs": [
    {
     "data": {
      "text/plain": [
       "'er'"
      ]
     },
     "execution_count": 109,
     "metadata": {},
     "output_type": "execute_result"
    }
   ],
   "source": [
    "my_sequence='germany'\n",
    "my_sequence[1:3]"
   ]
  },
  {
   "cell_type": "code",
   "execution_count": 2,
   "id": "743df732",
   "metadata": {},
   "outputs": [
    {
     "data": {
      "text/plain": [
       "'rmany'"
      ]
     },
     "execution_count": 2,
     "metadata": {},
     "output_type": "execute_result"
    }
   ],
   "source": [
    "my_sequence = 'germany'\n",
    "my_sequence[2:]"
   ]
  },
  {
   "cell_type": "code",
   "execution_count": 8,
   "id": "d2ed21af",
   "metadata": {},
   "outputs": [
    {
     "data": {
      "text/plain": [
       "'r'"
      ]
     },
     "execution_count": 8,
     "metadata": {},
     "output_type": "execute_result"
    }
   ],
   "source": [
    "my_sequence[2:5:4]"
   ]
  },
  {
   "cell_type": "code",
   "execution_count": 9,
   "id": "05497ec3",
   "metadata": {},
   "outputs": [
    {
     "data": {
      "text/plain": [
       "'ynamreg'"
      ]
     },
     "execution_count": 9,
     "metadata": {},
     "output_type": "execute_result"
    }
   ],
   "source": [
    "my_sequence[::-1]"
   ]
  },
  {
   "cell_type": "code",
   "execution_count": 13,
   "id": "44b904ed",
   "metadata": {},
   "outputs": [],
   "source": [
    "point = (11,23,45,56)"
   ]
  },
  {
   "cell_type": "code",
   "execution_count": 17,
   "id": "af616e09",
   "metadata": {},
   "outputs": [
    {
     "data": {
      "text/plain": [
       "True"
      ]
     },
     "execution_count": 17,
     "metadata": {},
     "output_type": "execute_result"
    }
   ],
   "source": [
    "point= (11,23,45,56)\n",
    "56 in point"
   ]
  },
  {
   "cell_type": "code",
   "execution_count": 18,
   "id": "cc99cb85",
   "metadata": {},
   "outputs": [
    {
     "data": {
      "text/plain": [
       "False"
      ]
     },
     "execution_count": 18,
     "metadata": {},
     "output_type": "execute_result"
    }
   ],
   "source": [
    "my_sequence = 'MRVJSRKLMWMVRT'\n",
    "'N' in my_sequence\n"
   ]
  },
  {
   "cell_type": "code",
   "execution_count": 19,
   "id": "aac5b31a",
   "metadata": {},
   "outputs": [
    {
     "data": {
      "text/plain": [
       "(11, 23, 45, 56, 3, 4, 5)"
      ]
     },
     "execution_count": 19,
     "metadata": {},
     "output_type": "execute_result"
    }
   ],
   "source": [
    "point = (11,23,45,56)\n",
    "point2= (3,4,5)\n",
    "point + point2"
   ]
  },
  {
   "cell_type": "code",
   "execution_count": 20,
   "id": "7f21a128",
   "metadata": {},
   "outputs": [
    {
     "data": {
      "text/plain": [
       "56"
      ]
     },
     "execution_count": 20,
     "metadata": {},
     "output_type": "execute_result"
    }
   ],
   "source": [
    "max(point)"
   ]
  },
  {
   "cell_type": "code",
   "execution_count": 21,
   "id": "53952621",
   "metadata": {},
   "outputs": [
    {
     "data": {
      "text/plain": [
       "3"
      ]
     },
     "execution_count": 21,
     "metadata": {},
     "output_type": "execute_result"
    }
   ],
   "source": [
    "min(point2)"
   ]
  },
  {
   "cell_type": "code",
   "execution_count": 22,
   "id": "0c62d198",
   "metadata": {},
   "outputs": [
    {
     "data": {
      "text/plain": [
       "'W'"
      ]
     },
     "execution_count": 22,
     "metadata": {},
     "output_type": "execute_result"
    }
   ],
   "source": [
    "max(my_sequence)"
   ]
  },
  {
   "cell_type": "code",
   "execution_count": 23,
   "id": "fdfb1f4b",
   "metadata": {},
   "outputs": [
    {
     "data": {
      "text/plain": [
       "'TATAAAAMRVJSRKLMWMVRT'"
      ]
     },
     "execution_count": 23,
     "metadata": {},
     "output_type": "execute_result"
    }
   ],
   "source": [
    "tata_box= 'TATAAAA'\n",
    "tata_box + my_sequence"
   ]
  },
  {
   "cell_type": "code",
   "execution_count": 24,
   "id": "1e7e96fc",
   "metadata": {},
   "outputs": [
    {
     "data": {
      "text/plain": [
       "'MRVJSRKLMWMVRTTATAAAAGCTATTC'"
      ]
     },
     "execution_count": 24,
     "metadata": {},
     "output_type": "execute_result"
    }
   ],
   "source": [
    "dna_seq = 'GCTATTC'\n",
    "my_sequence+tata_box+dna_seq"
   ]
  },
  {
   "cell_type": "code",
   "execution_count": 25,
   "id": "e1de010b",
   "metadata": {},
   "outputs": [
    {
     "data": {
      "text/plain": [
       "['T', 'A', 'T', 'A', 'A', 'A', 'A']"
      ]
     },
     "execution_count": 25,
     "metadata": {},
     "output_type": "execute_result"
    }
   ],
   "source": [
    "tata_box = 'TATAAAA'\n",
    "list(tata_box)"
   ]
  },
  {
   "cell_type": "code",
   "execution_count": 1,
   "id": "ae38071d",
   "metadata": {},
   "outputs": [],
   "source": [
    "my_sequence = 'MRVVLMNATAALSTA'\n",
    "first_list = [1,2,3,4,5,6]\n",
    "d = {1:'a',2:'b',3:'c',4:'d'}\n",
    "k = d.keys\n",
    "point = (23,34,56)\n",
    "first_set = {'CP0140.1','XJ8113.5','EF1243.4'}\n",
    "fs= frozenset(['a','b'])\n",
    "             "
   ]
  },
  {
   "cell_type": "code",
   "execution_count": 2,
   "id": "65a02b9a",
   "metadata": {},
   "outputs": [],
   "source": [
    "a = 3\n",
    "b = [1,2,a]"
   ]
  },
  {
   "cell_type": "code",
   "execution_count": 3,
   "id": "a825ff6f",
   "metadata": {},
   "outputs": [
    {
     "data": {
      "text/plain": [
       "[1, 2, 3]"
      ]
     },
     "execution_count": 3,
     "metadata": {},
     "output_type": "execute_result"
    }
   ],
   "source": [
    "b"
   ]
  },
  {
   "cell_type": "code",
   "execution_count": 4,
   "id": "15863628",
   "metadata": {},
   "outputs": [
    {
     "data": {
      "text/plain": [
       "[1, 2, 3]"
      ]
     },
     "execution_count": 4,
     "metadata": {},
     "output_type": "execute_result"
    }
   ],
   "source": [
    "a=5\n",
    "b"
   ]
  },
  {
   "cell_type": "code",
   "execution_count": 6,
   "id": "d24e5dd2",
   "metadata": {},
   "outputs": [],
   "source": [
    "c = [1,2,3]\n",
    "d = [5,6,c]"
   ]
  },
  {
   "cell_type": "code",
   "execution_count": 7,
   "id": "6de60e17",
   "metadata": {},
   "outputs": [
    {
     "data": {
      "text/plain": [
       "[1, 2, 3]"
      ]
     },
     "execution_count": 7,
     "metadata": {},
     "output_type": "execute_result"
    }
   ],
   "source": [
    "c"
   ]
  },
  {
   "cell_type": "code",
   "execution_count": 8,
   "id": "0eac6d53",
   "metadata": {},
   "outputs": [
    {
     "data": {
      "text/plain": [
       "[5, 6, [1, 2, 3]]"
      ]
     },
     "execution_count": 8,
     "metadata": {},
     "output_type": "execute_result"
    }
   ],
   "source": [
    "d"
   ]
  },
  {
   "cell_type": "code",
   "execution_count": 11,
   "id": "0ac214b9",
   "metadata": {},
   "outputs": [],
   "source": [
    "e = ['a','b','c','d']"
   ]
  },
  {
   "cell_type": "code",
   "execution_count": 12,
   "id": "674aac39",
   "metadata": {},
   "outputs": [
    {
     "data": {
      "text/plain": [
       "['a', 'b', 'c', 'd']"
      ]
     },
     "execution_count": 12,
     "metadata": {},
     "output_type": "execute_result"
    }
   ],
   "source": [
    "e"
   ]
  },
  {
   "cell_type": "code",
   "execution_count": 14,
   "id": "a3841509",
   "metadata": {},
   "outputs": [],
   "source": [
    "e = ['a'+'b'+'c'+'d']"
   ]
  },
  {
   "cell_type": "code",
   "execution_count": 15,
   "id": "0387e072",
   "metadata": {},
   "outputs": [
    {
     "data": {
      "text/plain": [
       "['abcd']"
      ]
     },
     "execution_count": 15,
     "metadata": {},
     "output_type": "execute_result"
    }
   ],
   "source": [
    "e"
   ]
  },
  {
   "cell_type": "code",
   "execution_count": 16,
   "id": "67ceb00a",
   "metadata": {},
   "outputs": [
    {
     "data": {
      "text/plain": [
       "[1, 2, 3]"
      ]
     },
     "execution_count": 16,
     "metadata": {},
     "output_type": "execute_result"
    }
   ],
   "source": [
    "c"
   ]
  },
  {
   "cell_type": "code",
   "execution_count": 17,
   "id": "fd18dfe1",
   "metadata": {},
   "outputs": [
    {
     "data": {
      "text/plain": [
       "[5, 6, [1, 2, 3]]"
      ]
     },
     "execution_count": 17,
     "metadata": {},
     "output_type": "execute_result"
    }
   ],
   "source": [
    "d"
   ]
  },
  {
   "cell_type": "code",
   "execution_count": 18,
   "id": "6bf2cb8c",
   "metadata": {},
   "outputs": [
    {
     "data": {
      "text/plain": [
       "3"
      ]
     },
     "execution_count": 18,
     "metadata": {},
     "output_type": "execute_result"
    }
   ],
   "source": [
    "c.pop()"
   ]
  },
  {
   "cell_type": "code",
   "execution_count": 19,
   "id": "c1a0e1a4",
   "metadata": {},
   "outputs": [
    {
     "data": {
      "text/plain": [
       "[5, 6, [1, 2]]"
      ]
     },
     "execution_count": 19,
     "metadata": {},
     "output_type": "execute_result"
    }
   ],
   "source": [
    "d"
   ]
  },
  {
   "cell_type": "code",
   "execution_count": 20,
   "id": "78c7f5e7",
   "metadata": {},
   "outputs": [],
   "source": [
    "a = 3\n",
    "b = [1,2,a]"
   ]
  },
  {
   "cell_type": "code",
   "execution_count": 21,
   "id": "c4c3ef92",
   "metadata": {},
   "outputs": [
    {
     "data": {
      "text/plain": [
       "[1, 2, 3]"
      ]
     },
     "execution_count": 21,
     "metadata": {},
     "output_type": "execute_result"
    }
   ],
   "source": [
    "b"
   ]
  },
  {
   "cell_type": "code",
   "execution_count": 22,
   "id": "df95911c",
   "metadata": {},
   "outputs": [
    {
     "name": "stdout",
     "output_type": "stream",
     "text": [
      "C stands for the amino acid Cys\n"
     ]
    }
   ],
   "source": [
    "iupac = {'A':'Ala', 'C':'Cys','E':'Glu'}\n",
    "print ('C stands for the amino acid {0}'.format(iupac['C']))"
   ]
  },
  {
   "cell_type": "code",
   "execution_count": 23,
   "id": "45e95638",
   "metadata": {},
   "outputs": [
    {
     "data": {
      "text/plain": [
       "'Glu'"
      ]
     },
     "execution_count": 23,
     "metadata": {},
     "output_type": "execute_result"
    }
   ],
   "source": [
    "iupac['E']"
   ]
  },
  {
   "cell_type": "code",
   "execution_count": 25,
   "id": "85bfcb70",
   "metadata": {},
   "outputs": [
    {
     "data": {
      "text/plain": [
       "{'red': 'ff1111', 'green': 'kl2222', 'lavender': 'la4444'}"
      ]
     },
     "execution_count": 25,
     "metadata": {},
     "output_type": "execute_result"
    }
   ],
   "source": [
    "rgb = [('red','ff1111'),('green','kl2222'),('lavender','la4444')]\n",
    "colors_d = dict(rgb)\n",
    "colors_d"
   ]
  },
  {
   "cell_type": "code",
   "execution_count": 27,
   "id": "b3a96e2e",
   "metadata": {},
   "outputs": [
    {
     "data": {
      "text/plain": [
       "{'red': 'ff1111', 'green': 'kl2222', 'lavender': 'la4444'}"
      ]
     },
     "execution_count": 27,
     "metadata": {},
     "output_type": "execute_result"
    }
   ],
   "source": [
    "rgb = dict(red='ff1111', green = 'kl2222' , lavender='la4444')\n",
    "rgb"
   ]
  },
  {
   "cell_type": "code",
   "execution_count": 28,
   "id": "d7c17b8d",
   "metadata": {},
   "outputs": [
    {
     "data": {
      "text/plain": [
       "{'red': 'ff1111', 'lavender': 'la4444'}"
      ]
     },
     "execution_count": 28,
     "metadata": {},
     "output_type": "execute_result"
    }
   ],
   "source": [
    "rgb = {}\n",
    "rgb['red']='ff1111'\n",
    "rgb['lavender']='la4444'\n",
    "rgb"
   ]
  },
  {
   "cell_type": "code",
   "execution_count": 29,
   "id": "248106b1",
   "metadata": {},
   "outputs": [
    {
     "data": {
      "text/plain": [
       "2"
      ]
     },
     "execution_count": 29,
     "metadata": {},
     "output_type": "execute_result"
    }
   ],
   "source": [
    "len(rgb)"
   ]
  },
  {
   "cell_type": "code",
   "execution_count": 30,
   "id": "c7063258",
   "metadata": {},
   "outputs": [
    {
     "data": {
      "text/plain": [
       "3"
      ]
     },
     "execution_count": 30,
     "metadata": {},
     "output_type": "execute_result"
    }
   ],
   "source": [
    "len(iupac)"
   ]
  },
  {
   "cell_type": "code",
   "execution_count": 31,
   "id": "66cdff68",
   "metadata": {},
   "outputs": [
    {
     "data": {
      "text/plain": [
       "4"
      ]
     },
     "execution_count": 31,
     "metadata": {},
     "output_type": "execute_result"
    }
   ],
   "source": [
    "iupac['S']='Ser'\n",
    "len(iupac)"
   ]
  },
  {
   "cell_type": "code",
   "execution_count": 32,
   "id": "a7a3ff3b",
   "metadata": {},
   "outputs": [
    {
     "data": {
      "text/plain": [
       "{'A': 'Ala', 'C': 'Cys', 'E': 'Glu'}"
      ]
     },
     "execution_count": 32,
     "metadata": {},
     "output_type": "execute_result"
    }
   ],
   "source": [
    "iupac = {'A':'Ala','C':'Cys','E':'Glu'}\n",
    "iupac"
   ]
  },
  {
   "cell_type": "code",
   "execution_count": 33,
   "id": "a60b05db",
   "metadata": {},
   "outputs": [
    {
     "data": {
      "text/plain": [
       "{'A': 'Ala', 'C': 'Cys', 'E': 'Glu', 'X': 'Xaa'}"
      ]
     },
     "execution_count": 33,
     "metadata": {},
     "output_type": "execute_result"
    }
   ],
   "source": [
    "iupac['X']='Xaa'\n",
    "iupac"
   ]
  },
  {
   "cell_type": "code",
   "execution_count": 34,
   "id": "91bd3471",
   "metadata": {},
   "outputs": [
    {
     "data": {
      "text/plain": [
       "dict_keys(['A', 'C', 'E', 'X'])"
      ]
     },
     "execution_count": 34,
     "metadata": {},
     "output_type": "execute_result"
    }
   ],
   "source": [
    "iupac.keys()"
   ]
  },
  {
   "cell_type": "code",
   "execution_count": 35,
   "id": "9618943d",
   "metadata": {},
   "outputs": [
    {
     "data": {
      "text/plain": [
       "dict_values(['Ala', 'Cys', 'Glu', 'Xaa'])"
      ]
     },
     "execution_count": 35,
     "metadata": {},
     "output_type": "execute_result"
    }
   ],
   "source": [
    "iupac.values()"
   ]
  },
  {
   "cell_type": "code",
   "execution_count": 36,
   "id": "725554df",
   "metadata": {},
   "outputs": [
    {
     "data": {
      "text/plain": [
       "'Xaa'"
      ]
     },
     "execution_count": 36,
     "metadata": {},
     "output_type": "execute_result"
    }
   ],
   "source": [
    "iupac_keys = iupac.keys()\n",
    "iupac_vals = iupac.values()\n",
    "iupac.pop('X')"
   ]
  },
  {
   "cell_type": "code",
   "execution_count": 37,
   "id": "3d744a6f",
   "metadata": {},
   "outputs": [
    {
     "data": {
      "text/plain": [
       "dict_keys(['A', 'C', 'E'])"
      ]
     },
     "execution_count": 37,
     "metadata": {},
     "output_type": "execute_result"
    }
   ],
   "source": [
    "iupac_keys"
   ]
  },
  {
   "cell_type": "code",
   "execution_count": 38,
   "id": "6ef0fec6",
   "metadata": {},
   "outputs": [
    {
     "data": {
      "text/plain": [
       "dict_values(['Ala', 'Cys', 'Glu'])"
      ]
     },
     "execution_count": 38,
     "metadata": {},
     "output_type": "execute_result"
    }
   ],
   "source": [
    "iupac_vals"
   ]
  },
  {
   "cell_type": "code",
   "execution_count": 39,
   "id": "b67555d1",
   "metadata": {},
   "outputs": [
    {
     "data": {
      "text/plain": [
       "dict_items([('A', 'Ala'), ('C', 'Cys'), ('E', 'Glu')])"
      ]
     },
     "execution_count": 39,
     "metadata": {},
     "output_type": "execute_result"
    }
   ],
   "source": [
    "iupac.items()"
   ]
  },
  {
   "cell_type": "code",
   "execution_count": 41,
   "id": "c3712330",
   "metadata": {},
   "outputs": [
    {
     "data": {
      "text/plain": [
       "'no translation available'"
      ]
     },
     "execution_count": 41,
     "metadata": {},
     "output_type": "execute_result"
    }
   ],
   "source": [
    "iupac.get('Z','no translation available')"
   ]
  },
  {
   "cell_type": "code",
   "execution_count": 42,
   "id": "18d0e734",
   "metadata": {},
   "outputs": [
    {
     "data": {
      "text/plain": [
       "{'C': 'Cys', 'E': 'Glu'}"
      ]
     },
     "execution_count": 42,
     "metadata": {},
     "output_type": "execute_result"
    }
   ],
   "source": [
    "del iupac ['A']\n",
    "iupac"
   ]
  },
  {
   "cell_type": "code",
   "execution_count": 51,
   "id": "22fae335",
   "metadata": {},
   "outputs": [
    {
     "data": {
      "text/plain": [
       "{6, 46, 90}"
      ]
     },
     "execution_count": 51,
     "metadata": {},
     "output_type": "execute_result"
    }
   ],
   "source": [
    "{2*x for x in [3,45,23]}"
   ]
  },
  {
   "cell_type": "code",
   "execution_count": 45,
   "id": "75da77c4",
   "metadata": {},
   "outputs": [
    {
     "data": {
      "text/plain": [
       "{2, 4, 6, 10, 46, 90}"
      ]
     },
     "execution_count": 45,
     "metadata": {},
     "output_type": "execute_result"
    }
   ],
   "source": [
    "{2*x for x in [1,1,2,2,3,3,45,45,45,5,23]}"
   ]
  },
  {
   "cell_type": "code",
   "execution_count": 46,
   "id": "d9c4e551",
   "metadata": {},
   "outputs": [
    {
     "data": {
      "text/plain": [
       "{1, 2, 3, 4}"
      ]
     },
     "execution_count": 46,
     "metadata": {},
     "output_type": "execute_result"
    }
   ],
   "source": [
    "uniques={2,2,3,4,1,1,2,2,4,3}\n",
    "uniques"
   ]
  },
  {
   "cell_type": "code",
   "execution_count": 54,
   "id": "0f15ceae",
   "metadata": {},
   "outputs": [
    {
     "data": {
      "text/plain": [
       "{'KI2206.01'}"
      ]
     },
     "execution_count": 54,
     "metadata": {},
     "output_type": "execute_result"
    }
   ],
   "source": [
    "first_set = {'CC0231.2','SA128.3','KI2206.01'}\n",
    "other_set = {'KI2206.01','KL3333.2'}\n",
    "common = first_set.intersection(other_set)\n",
    "common"
   ]
  },
  {
   "cell_type": "code",
   "execution_count": 55,
   "id": "ec53b559",
   "metadata": {},
   "outputs": [
    {
     "data": {
      "text/plain": [
       "{'KI2206.01'}"
      ]
     },
     "execution_count": 55,
     "metadata": {},
     "output_type": "execute_result"
    }
   ],
   "source": [
    "common = first_set & other_set\n",
    "common"
   ]
  },
  {
   "cell_type": "code",
   "execution_count": 56,
   "id": "2958c416",
   "metadata": {},
   "outputs": [
    {
     "data": {
      "text/plain": [
       "{'CC0231.2', 'KI2206.01', 'KL3333.2', 'SA128.3'}"
      ]
     },
     "execution_count": 56,
     "metadata": {},
     "output_type": "execute_result"
    }
   ],
   "source": [
    "first_set.union(other_set)"
   ]
  },
  {
   "cell_type": "code",
   "execution_count": 57,
   "id": "9ec72db6",
   "metadata": {},
   "outputs": [
    {
     "data": {
      "text/plain": [
       "{'CC0231.2', 'KI2206.01', 'KL3333.2', 'SA128.3'}"
      ]
     },
     "execution_count": 57,
     "metadata": {},
     "output_type": "execute_result"
    }
   ],
   "source": [
    "first_set| other_set"
   ]
  },
  {
   "cell_type": "code",
   "execution_count": 58,
   "id": "6438f113",
   "metadata": {},
   "outputs": [
    {
     "data": {
      "text/plain": [
       "{'CC0231.2', 'SA128.3'}"
      ]
     },
     "execution_count": 58,
     "metadata": {},
     "output_type": "execute_result"
    }
   ],
   "source": [
    "first_set.difference(other_set)"
   ]
  },
  {
   "cell_type": "code",
   "execution_count": 59,
   "id": "bf5509ac",
   "metadata": {},
   "outputs": [
    {
     "data": {
      "text/plain": [
       "{'KL3333.2'}"
      ]
     },
     "execution_count": 59,
     "metadata": {},
     "output_type": "execute_result"
    }
   ],
   "source": [
    "other_set.difference(first_set)"
   ]
  },
  {
   "cell_type": "code",
   "execution_count": 12,
   "id": "38b10032",
   "metadata": {},
   "outputs": [
    {
     "ename": "TypeError",
     "evalue": "'builtin_function_or_method' object is not subscriptable",
     "output_type": "error",
     "traceback": [
      "\u001b[0;31m---------------------------------------------------------------------------\u001b[0m",
      "\u001b[0;31mTypeError\u001b[0m                                 Traceback (most recent call last)",
      "Cell \u001b[0;32mIn[12], line 2\u001b[0m\n\u001b[1;32m      1\u001b[0m dna_sequence \u001b[38;5;241m=\u001b[39m \u001b[38;5;124m'\u001b[39m\u001b[38;5;124mGCTACGATTA\u001b[39m\u001b[38;5;124m'\u001b[39m\n\u001b[0;32m----> 2\u001b[0m rna_sequence \u001b[38;5;241m=\u001b[39m dna_sequence\u001b[38;5;241m.\u001b[39mreplace[\u001b[38;5;124m\"\u001b[39m\u001b[38;5;124mT\u001b[39m\u001b[38;5;124m\"\u001b[39m,\u001b[38;5;124m\"\u001b[39m\u001b[38;5;124mU\u001b[39m\u001b[38;5;124m\"\u001b[39m]\n\u001b[1;32m      3\u001b[0m rna_sequence\n",
      "\u001b[0;31mTypeError\u001b[0m: 'builtin_function_or_method' object is not subscriptable"
     ]
    }
   ],
   "source": [
    "dna_sequence = 'GCTACGATTA'\n",
    "rna_sequence = dna_sequence.replace[\"T\",\"U\"]\n",
    "rna_sequence\n"
   ]
  },
  {
   "cell_type": "code",
   "execution_count": 24,
   "id": "2a8fa105",
   "metadata": {},
   "outputs": [],
   "source": [
    "dna_seq = 'GCTATG'\n"
   ]
  },
  {
   "cell_type": "code",
   "execution_count": 25,
   "id": "4aff9433",
   "metadata": {},
   "outputs": [
    {
     "data": {
      "text/plain": [
       "'GCTATG'"
      ]
     },
     "execution_count": 25,
     "metadata": {},
     "output_type": "execute_result"
    }
   ],
   "source": [
    "dna_seq"
   ]
  },
  {
   "cell_type": "code",
   "execution_count": 26,
   "id": "12f73e4c",
   "metadata": {},
   "outputs": [],
   "source": [
    "rna_seq = dna_seq\n",
    "rna_seq = dna_seq.replace"
   ]
  },
  {
   "cell_type": "code",
   "execution_count": null,
   "id": "370dc805",
   "metadata": {},
   "outputs": [],
   "source": []
  }
 ],
 "metadata": {
  "kernelspec": {
   "display_name": "Python 3 (ipykernel)",
   "language": "python",
   "name": "python3"
  },
  "language_info": {
   "codemirror_mode": {
    "name": "ipython",
    "version": 3
   },
   "file_extension": ".py",
   "mimetype": "text/x-python",
   "name": "python",
   "nbconvert_exporter": "python",
   "pygments_lexer": "ipython3",
   "version": "3.11.4"
  }
 },
 "nbformat": 4,
 "nbformat_minor": 5
}
